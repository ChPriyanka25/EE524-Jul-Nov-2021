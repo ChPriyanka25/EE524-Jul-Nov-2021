{
 "cells": [
  {
   "cell_type": "code",
   "execution_count": 1,
   "id": "b54fb364",
   "metadata": {},
   "outputs": [
    {
     "name": "stdout",
     "output_type": "stream",
     "text": [
      "Hello World!\n"
     ]
    }
   ],
   "source": [
    "#problem1\n",
    "#printing hello world\n",
    "print(\"Hello World!\")"
   ]
  },
  {
   "cell_type": "code",
   "execution_count": 23,
   "id": "64087328",
   "metadata": {},
   "outputs": [
    {
     "name": "stdout",
     "output_type": "stream",
     "text": [
      "Give number for a :6\n",
      "Give number for b :3\n",
      "Sum:9\n",
      "Diff:3\n",
      "Mul:18\n",
      "Div:2.0\n",
      "Mod:0\n"
     ]
    }
   ],
   "source": [
    "#problem2\n",
    "a=input(\"Give number for a :\")#userinput value of a\n",
    "b=input(\"Give number for b :\")#userinput value of b\n",
    "c=int(a)+int(b) #addition\n",
    "d=int(a)-int(b) #subtraction\n",
    "e=int(a)*int(b) #multiplication\n",
    "f=int(a)/int(b) #division\n",
    "g=int(a)%int(b) #modulus\n",
    "print(\"Sum:\"+str(c)) #printing addition\n",
    "print(\"Diff:\"+str(d)) #printing subtraction\n",
    "print(\"Mul:\"+str(e)) #printing multiplication\n",
    "print(\"Div:\"+str(f)) #printing division\n",
    "print(\"Mod:\"+str(g)) #printing modulus"
   ]
  },
  {
   "cell_type": "code",
   "execution_count": 40,
   "id": "47eef0af",
   "metadata": {},
   "outputs": [
    {
     "name": "stdout",
     "output_type": "stream",
     "text": [
      "Enter num :5\n",
      "Factorial:  120\n"
     ]
    }
   ],
   "source": [
    "#problem3\n",
    "num=int(input(\"Enter num :\"))\n",
    "i=1 #initializing value\n",
    "if num < 0 :\n",
    "    print(\"Factorial doesnt exist\") \n",
    "elif num == 0:\n",
    "    print(\"Factorial of 0 is 1\")\n",
    "else:\n",
    "    while num>=1:\n",
    "        i=i*num\n",
    "        num=num-1\n",
    "    print(\"Factorial: \",i) #printing factorial value"
   ]
  },
  {
   "cell_type": "code",
   "execution_count": 47,
   "id": "f38ff999",
   "metadata": {},
   "outputs": [
    {
     "name": "stdout",
     "output_type": "stream",
     "text": [
      "enter num:3\n",
      "enter num:10\n",
      "3\n",
      "5\n",
      "7\n"
     ]
    }
   ],
   "source": [
    "#problem4\n",
    "a=int(input(\"enter num:\"))\n",
    "b=int(input(\"enter num:\"))\n",
    "#generating prime numbers btw a and b\n",
    "for i in range(a,b+1):\n",
    "    if i > 1:\n",
    "        for j in range(2,i):\n",
    "            if(i%j)==0:\n",
    "                break\n",
    "        else:\n",
    "            print(i)"
   ]
  },
  {
   "cell_type": "code",
   "execution_count": 33,
   "id": "40b9ac5c",
   "metadata": {},
   "outputs": [
    {
     "name": "stdout",
     "output_type": "stream",
     "text": [
      "Enter num1:4\n",
      "Enter num2:14\n",
      "LCM of num1 and num2 : 28\n"
     ]
    }
   ],
   "source": [
    "#problem5\n",
    "num1=int(input(\"Enter num1:\"))\n",
    "num2=int(input(\"Enter num2:\"))\n",
    "if num1>num2:\n",
    "    value=num1\n",
    "else:\n",
    "    value=num2\n",
    "while(True):\n",
    "    if value%num1==0 and value%num2==0:\n",
    "        print(\"LCM of num1 and num2 : \"+str(value))\n",
    "        break\n",
    "    value=value+1"
   ]
  },
  {
   "cell_type": "code",
   "execution_count": 46,
   "id": "33e273ea",
   "metadata": {},
   "outputs": [
    {
     "name": "stdout",
     "output_type": "stream",
     "text": [
      "[50, 42, 35, 29, 27, 25, 24, 17, 11, 8, 6, 5, 4, 3, 1]\n",
      "index value:  0 , value:  50\n",
      "index value:  1 , value:  42\n",
      "index value:  2 , value:  35\n",
      "index value:  3 , value:  29\n",
      "index value:  4 , value:  27\n",
      "index value:  5 , value:  25\n",
      "index value:  6 , value:  24\n",
      "index value:  7 , value:  17\n",
      "index value:  8 , value:  11\n",
      "index value:  9 , value:  8\n",
      "index value:  10 , value:  6\n",
      "index value:  11 , value:  5\n",
      "index value:  12 , value:  4\n",
      "index value:  13 , value:  3\n",
      "index value:  14 , value:  1\n"
     ]
    }
   ],
   "source": [
    "#problem6\n",
    "def sort(list):   #function for descending order\n",
    "    for i in range(len(list)-1,0,-1):\n",
    "        for j in range(len(list)-1):\n",
    "            if( list[j]<list[j+1]):\n",
    "                list[j],list[j+1]=list[j+1],list[j]\n",
    "    return list\n",
    "    \n",
    "    \n",
    "list=[1,4,5,8,6,3,11,25,17,27,29,50,42,35,24]\n",
    "sort(list)     #calling sort func\n",
    "print(list)\n",
    "for i in list:\n",
    "    print(\"index value: \",list.index(i),\", value: \",i)"
   ]
  },
  {
   "cell_type": "code",
   "execution_count": 11,
   "id": "8110fa2f",
   "metadata": {},
   "outputs": [
    {
     "name": "stdout",
     "output_type": "stream",
     "text": [
      "index value:  [0] , value:  1\n",
      "index value:  [1] , value:  3\n",
      "index value:  [2] , value:  4\n",
      "index value:  [3] , value:  5\n",
      "index value:  [4] , value:  6\n",
      "index value:  [5] , value:  8\n",
      "index value:  [6] , value:  11\n",
      "index value:  [7] , value:  17\n",
      "index value:  [8] , value:  24\n",
      "index value:  [9] , value:  25\n",
      "index value:  [10] , value:  27\n",
      "index value:  [11] , value:  29\n",
      "index value:  [12] , value:  35\n",
      "index value:  [13] , value:  42\n",
      "index value:  [14] , value:  50\n"
     ]
    }
   ],
   "source": [
    "#problem7\n",
    "import numpy as np\n",
    "list=[1,4,5,8,6,3,11,25,17,27,29,50,42,35,24]\n",
    "arr=np.array(list)\n",
    "all=np.sort(arr)  #ascending order\n",
    "for i in all:\n",
    "    res=np.where(all==i)\n",
    "    print(\"index value: \",res[0],\", value: \",i)"
   ]
  },
  {
   "cell_type": "code",
   "execution_count": 47,
   "id": "b0613c0a",
   "metadata": {},
   "outputs": [
    {
     "name": "stdout",
     "output_type": "stream",
     "text": [
      "Enter num of rows: 5\n",
      "Enter num of col: 4\n",
      "[[ 0  2 -1  0]\n",
      " [ 0  3  5  3]\n",
      " [ 1  3 -2  5]\n",
      " [-2  2  3  0]\n",
      " [-1  3 -1  3]]\n"
     ]
    }
   ],
   "source": [
    "#problem8\n",
    "import numpy as np\n",
    "m=int(input(\"Enter num of rows: \"))\n",
    "n=int(input(\"Enter num of col: \"))\n",
    "array = np.random.randint(-2,6,size=(m,n))\n",
    "\n",
    "print(array)"
   ]
  },
  {
   "cell_type": "code",
   "execution_count": 11,
   "id": "0485de98",
   "metadata": {},
   "outputs": [
    {
     "name": "stdout",
     "output_type": "stream",
     "text": [
      "Enter num of rows: 2\n",
      "Enter num of col: 2\n",
      "Enter num of rows: 2\n",
      "[[2 1]\n",
      " [2 1]]\n",
      "[[1 1]\n",
      " [1 1]]\n",
      "[3. 3.]\n",
      "[3. 3.]\n",
      "[[3 3]\n",
      " [3 3]]\n"
     ]
    }
   ],
   "source": [
    "#problem9\n",
    "import numpy as np\n",
    "r=int(input(\"Enter num of rows: \"))  #rows of 1st matrix\n",
    "c=int(input(\"Enter num of col: \"))   #rows of 2nd matrix/columns of 1st matrix\n",
    "c2=int(input(\"Enter num of rows: \"))  #columns of 2nd matrix\n",
    "array1 = np.random.randint(1,5,size=(r,c))   #1st matrix\n",
    "array2 = np.random.randint(1,2,size=(c,c2))  #2nd matrix\n",
    "print(array1)\n",
    "print(array2)\n",
    "res = np.empty((r, c2))    #initializing product matrix\n",
    "for i in range(r):\n",
    "    for j in range(c2):\n",
    "        for k in range(c):\n",
    "            res[i][j]+=array1[i][k]*array2[k][j]\n",
    "for all in res:\n",
    "    print(all)\n",
    "\n",
    "\n",
    "res=np.dot(array1,array2)\n",
    "print(res)"
   ]
  },
  {
   "cell_type": "code",
   "execution_count": 16,
   "id": "7248a29c",
   "metadata": {},
   "outputs": [
    {
     "name": "stdout",
     "output_type": "stream",
     "text": [
      "[[ 20  43  52  51 100  65  26  55  79  47  20  63  92  82  20  25  29  89\n",
      "    9  55  61  25  47  40  24  33  82  93  35  67  47  27  59  33  27  97\n",
      "   70  66  21  70  81  66  89  19  22  31  71   7  84  24  63  26  19  70\n",
      "   19  11  65  46   7  58  89  35   7  15  37  85  99  32  36  45  82  58\n",
      "   72  15   9  27  44  70  58  14  20  91  42  86  63  25  81  52  40  56\n",
      "   72  78  85  92  19   8  84  19  25  92]\n",
      " [ 46  20  32  95  37  25  99  22  90   7  12  84  86  31  40  36  60  97\n",
      "   25  67  43  44  36  17  38  64  21  65  91  69  76  16  14  26  52  75\n",
      "   88  13  99  54  72  73  28  68  85  89  39  30  21  40  67   5 100  95\n",
      "   18   3  12  36  17   6   4  85  82  46  54  75   2  83  16  99  80  81\n",
      "   71  52  91  93  40  62  79  17  98  79   8  90  93  37  22   6  69  99\n",
      "   76  21   4  30  58  96  19  37  54  98]\n",
      " [  1  79  64  49   8  38  75  86  82  58  54  45  87  39  85  72  40  98\n",
      "    5  54  59  44  99  95  50  43  46  54  65  77  97  37  14  28  62  28\n",
      "   45  63  46  69  30  67  66  26  97  69  58  74  29  10  73  28  59 100\n",
      "    1  10  99  86  88  87  10  39   1  46  74  87  95  22   9  19  20  34\n",
      "   73  31  81 100  40  12  52  56  57  29  98  60  16  57   9  78  56  67\n",
      "    4  65  10  91  82  79  65  38  56  25]\n",
      " [ 22  53  96  11  51  17  44   8  56  24  93  88   1  64  86  80  83  51\n",
      "   56  30  58  15  37  51  50  84  51  22  34  13  44  96  28  31  16  33\n",
      "   28   1  20  68  51  62  87  28  89  51  58  72  83  31  89 100  68  68\n",
      "   93  58  41  93  73  23  61  74  42  30  76  42   1  60  18  26  16  23\n",
      "   26  72  63   8  56  20  18  45  24  46  81  50  91  79  45  62  81  15\n",
      "   73  14  10  35  71  27  78  98  17  77]\n",
      " [ 87   9   3  91  41  15  47  29  20  71  22  20   8  63  97  94  68  34\n",
      "    9  10  14  38  37  64  77  17  64  44  82  75   2  24  14  88  42  37\n",
      "   87  10  33   7  10  48  60  83  33  29  73  33   7  44  12  57  66  54\n",
      "   84  37   8  59  44  25  86  19  58  23  14  26  14   9  87  73  62  96\n",
      "   67  23  32  12  26  77  74  45 100  60  82  30  26   6  89  15  47  82\n",
      "   46  42  42  23  26  49  32  24  60  81]\n",
      " [ 61   4  78  84  27  69  39  89  81  21  96  24  76  62  88  68  21  66\n",
      "    8  96  63  37   4  15  19  83  59  46  64  71  57   1  65  57  83  26\n",
      "   82  58   6  12  81  16  38  62  81  39   5  38  16  43  78  68  74  52\n",
      "   39   3  96  90  17  57 100  87  85  61  69  84   9  26  28  16  49  87\n",
      "   69   7  64  86  78  16  74  42  45  40  36  76  23   9  47  58  40  24\n",
      "   33  30  69  12  49  50  34  66  64  18]\n",
      " [ 48  71  45  98  50  16  47  46  11  75  25  96  15   6  44  20  98  40\n",
      "   67  42  19  23  81  28  20   1  16  69  91  12  64  91  81  88  69  91\n",
      "   53   2  54  51  39  15  55  37  74  50  44  75  31  92  95  48  76  29\n",
      "   74  69  87  87   8  58  40  29  43  31  71  71  93  52  71  82  63  78\n",
      "   12  40  41  96  69  44  99  98  26  35  47  26  90  96  24  65  37  23\n",
      "   53  20  50  21  69  44  85  80  60  34]\n",
      " [ 34  29  56  27  38  85  79  50  29  43  11  68  37  44  64  29  66  18\n",
      "    3  66  16   4  66  35  77  82  94  11  55  87  84  28  86  17  20   9\n",
      "   18  50  32  65  97  14  52  82   2  66  75   6   3  77  20  43  46  90\n",
      "   20  79  65  63  69  51  30  19  75  85  47  45  55  85  61  51  13  11\n",
      "   41  52  16  41  86  87  19   8  95   3  48  70   9  74  46  55  88  54\n",
      "   66  93  73   9  35  36  38  51  93  57]\n",
      " [  9  60  35   1  60  27  62  60  97  31  29  74  99  89  68  81  94  27\n",
      "   17  62  86 100   6  70  46  71   8  46  57  12  72  95  28  91  37   9\n",
      "   92   4  55  45  30  82  90  57  20  13  43  44  96  18   4  20   1   2\n",
      "   25  38  10  56  30  10  93   8  50  72  38  52  93  54  11  51  41  78\n",
      "   87  61   4  11  49  46  92  95  45  15  51  51   9  86  39  24  90  62\n",
      "   30  81  26  21  94   7  64  40  33  31]\n",
      " [  4  97  93  57  95   8  55   4  52   7   2  64  52  81  30  76  76  34\n",
      "   76  44  56  32  94  17  12  99  52  63   6  97  40  92  23  61  35  92\n",
      "   57  50  24  64  81  48  96  10  87  33  90  61  26  52  29   2  67  44\n",
      "   18  90  94   2  84  50  21  42   7  48  10  97  40  27  70  69  84  59\n",
      "   94  55  33  98  56  68  44  60  31  72   9  47  59  84  48  56  82  87\n",
      "   94  11  61  69  31  96  67  66  41  85]]\n"
     ]
    }
   ],
   "source": [
    "#problem10\n",
    "import random\n",
    "import numpy as np\n",
    "\n",
    "rand = np.random.randint(1,101,size=(10,100))\n",
    "#rand = random.sample(range(1,101),size=(10,100))\n",
    "print(rand)\n",
    "\n",
    "import csv\n",
    "\n",
    "with open('test.csv', 'w', newline='') as f:\n",
    "    thewriter = csv.writer(f)\n",
    "    #thewriter.writerow(rand)\n",
    "    thewriter.writerows(rand)\n",
    "    "
   ]
  },
  {
   "cell_type": "code",
   "execution_count": 19,
   "id": "ec8a691a",
   "metadata": {},
   "outputs": [
    {
     "name": "stdout",
     "output_type": "stream",
     "text": [
      "[[ 7.46687980e+02  8.90646465e+00  1.52303030e+01 -1.44881717e+02\n",
      "  -4.80136364e+01  1.46487879e+01 -1.26590404e+02 -3.81430303e+01\n",
      "   6.83597980e+01  1.64874242e+02]\n",
      " [ 8.90646465e+00  9.77547071e+02  6.30424242e+01 -9.81501010e+01\n",
      "   8.77383838e+01  1.28139596e+02 -1.34474747e+01 -2.38024242e+01\n",
      "  -6.49385859e+01  1.24451515e+02]\n",
      " [ 1.52303030e+01  6.30424242e+01  8.15434343e+02 -6.48484848e-01\n",
      "  -1.91939394e+02  1.13064646e+02 -4.91515152e+01 -1.75232323e+01\n",
      "   3.18545455e+01  2.27272727e+01]\n",
      " [-1.44881717e+02 -9.81501010e+01 -6.48484848e-01  7.61770808e+02\n",
      "  -1.13407576e+02 -5.76259596e+01  4.98641414e+01 -6.84622222e+01\n",
      "   4.93517172e+01  4.83186869e+01]\n",
      " [-4.80136364e+01  8.77383838e+01 -1.91939394e+02 -1.13407576e+02\n",
      "   7.83239899e+02  1.17823232e+01 -4.30782828e+01  3.21818182e+00\n",
      "   4.15282828e+01 -9.16439394e+01]\n",
      " [ 1.46487879e+01  1.28139596e+02  1.13064646e+02 -5.76259596e+01\n",
      "   1.17823232e+01  7.74559495e+02 -6.81500000e+01 -8.78666667e+00\n",
      "  -7.43569697e+01 -1.76564141e+02]\n",
      " [-1.26590404e+02 -1.34474747e+01 -4.91515152e+01  4.98641414e+01\n",
      "  -4.30782828e+01 -6.81500000e+01  7.52148990e+02 -1.26856566e+02\n",
      "  -6.61606061e+01  6.91186869e+01]\n",
      " [-3.81430303e+01 -2.38024242e+01 -1.75232323e+01 -6.84622222e+01\n",
      "   3.21818182e+00 -8.78666667e+00 -1.26856566e+02  7.65242020e+02\n",
      "  -5.91385859e+01 -1.42000000e+01]\n",
      " [ 6.83597980e+01 -6.49385859e+01  3.18545455e+01  4.93517172e+01\n",
      "   4.15282828e+01 -7.43569697e+01 -6.61606061e+01 -5.91385859e+01\n",
      "   9.09414545e+02 -2.30494949e+01]\n",
      " [ 1.64874242e+02  1.24451515e+02  2.27272727e+01  4.83186869e+01\n",
      "  -9.16439394e+01 -1.76564141e+02  6.91186869e+01 -1.42000000e+01\n",
      "  -2.30494949e+01  8.49361111e+02]]\n"
     ]
    }
   ],
   "source": [
    "#problem11\n",
    "import numpy as np\n",
    "file = open(\"test.csv\")\n",
    "matrix = np.loadtxt(file, delimiter=\",\")\n",
    "#print(matrix)\n",
    "print(np.cov(matrix))"
   ]
  },
  {
   "cell_type": "code",
   "execution_count": 49,
   "id": "93ccb09d",
   "metadata": {},
   "outputs": [
    {
     "name": "stdout",
     "output_type": "stream",
     "text": [
      "Real: 5\n",
      "imaginary: 8\n",
      "Real: 4\n",
      "imaginary: 7\n",
      "1st complex num:  (5+8j)\n",
      "2nd complex num:  (4+7j)\n",
      "Conj:  (5-8j)\n",
      "Absolute:  9.433981132056603\n",
      "Addition:  (9+15j)\n",
      "Subtraction:  (1+1j)\n",
      "Multiplication:  (-36+67j)\n",
      "Divison:  (1.1692307692307695-0.046153846153846184j)\n",
      "angle: 1.0121970114513341\n"
     ]
    }
   ],
   "source": [
    "#problem12\n",
    "import cmath\n",
    "import numpy as np\n",
    "x1=int(input(\"Real: \"))\n",
    "y1=int(input(\"imaginary: \"))\n",
    "x2=int(input(\"Real: \"))\n",
    "y2=int(input(\"imaginary: \"))\n",
    "z1 = complex(x1,y1)\n",
    "z2 = complex(x2,y2)\n",
    "print(\"1st complex num: \",z1)\n",
    "print(\"2nd complex num: \",z2)\n",
    "\n",
    "def conj(a1):\n",
    "    return a1.conjugate() \n",
    "def absolute(a1):\n",
    "    return abs(a1)\n",
    "def add(a1,a2):\n",
    "    return a1+a2\n",
    "def sub(a1,a2):\n",
    "    return a1-a2\n",
    "def mult(a1,a2):\n",
    "    return a1*a2\n",
    "def div(a1,a2):\n",
    "    return a1/a2\n",
    "def angle(a1):\n",
    "    return cmath.phase(a1)\n",
    "\n",
    "print(\"Conj: \",conj(z1))\n",
    "print(\"Absolute: \",absolute(z1))\n",
    "print(\"Addition: \",add(z1,z2))\n",
    "print(\"Subtraction: \",sub(z1,z2))\n",
    "print(\"Multiplication: \",mult(z1,z2))\n",
    "print(\"Divison: \",div(z1,z2))\n",
    "print(\"angle:\" ,angle(z1))"
   ]
  },
  {
   "cell_type": "code",
   "execution_count": 19,
   "id": "735e2cc7",
   "metadata": {},
   "outputs": [
    {
     "data": {
      "image/png": "[encoded data removed]",
      "text/plain": [
       "<Figure size 432x288 with 1 Axes>"
      ]
     },
     "metadata": {
      "needs_background": "light"
     },
     "output_type": "display_data"
    }
   ],
   "source": [
    "#problem13\n",
    "import matplotlib.pyplot as plt\n",
    "import numpy as np\n",
    "\n",
    "x=np.linspace(-10,10)\n",
    "y=3*x+2\n",
    "plt.plot(x,y)\n",
    "plt.title(\"Graph of y=3x+2\")\n",
    "plt.xlabel('x')\n",
    "plt.ylabel('y')\n",
    "plt.grid()\n",
    "plt.show()"
   ]
  },
  {
   "cell_type": "code",
   "execution_count": 31,
   "id": "021ee12e",
   "metadata": {},
   "outputs": [
    {
     "data": {
      "image/png": "[encoded data removed]",
      "text/plain": [
       "<Figure size 432x288 with 1 Axes>"
      ]
     },
     "metadata": {
      "needs_background": "light"
     },
     "output_type": "display_data"
    }
   ],
   "source": [
    "#problem14\n",
    "import numpy as np\n",
    "import matplotlib.pyplot as plt\n",
    "from math import pi\n",
    "\n",
    "#intializing variables\n",
    "x1=5      \n",
    "y1=-5\n",
    "ma=5   #major axis\n",
    "mi=2.5  #minor axis\n",
    "\n",
    "\n",
    "#ellipse plot\n",
    "e=np.linspace(0,2*pi,200)\n",
    "plt.plot(x1+ma*np.cos(e),y1+mi*np.sin(e))\n",
    "\n",
    "\n",
    "#points in ellipse\n",
    "x=[]\n",
    "y=[]\n",
    "for i in range(100):\n",
    "    n=np.random.randint(360)\n",
    "    x2=x1+ma*np.cos(n)*random.random()\n",
    "    y2=y1+mi*np.sin(n)*random.random()\n",
    "    x.append(x2)\n",
    "    y.append(y2)\n",
    "plt.plot(x,y,'bo')\n",
    "plt.show()"
   ]
  },
  {
   "cell_type": "code",
   "execution_count": null,
   "id": "9ae73bae",
   "metadata": {},
   "outputs": [],
   "source": []
  }
 ],
 "metadata": {
  "kernelspec": {
   "display_name": "Python 3",
   "language": "python",
   "name": "python3"
  },
  "language_info": {
   "codemirror_mode": {
    "name": "ipython",
    "version": 3
   },
   "file_extension": ".py",
   "mimetype": "text/x-python",
   "name": "python",
   "nbconvert_exporter": "python",
   "pygments_lexer": "ipython3",
   "version": "3.8.8"
  }
 },
 "nbformat": 4,
 "nbformat_minor": 5
}
